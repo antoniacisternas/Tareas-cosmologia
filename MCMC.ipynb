{
 "cells": [
  {
   "cell_type": "code",
   "execution_count": 2,
   "metadata": {},
   "outputs": [],
   "source": [
    "import numpy as np"
   ]
  },
  {
   "cell_type": "markdown",
   "metadata": {},
   "source": [
    "Estimar pi "
   ]
  },
  {
   "cell_type": "code",
   "execution_count": 25,
   "metadata": {},
   "outputs": [
    {
     "name": "stdout",
     "output_type": "stream",
     "text": [
      "pi: 3.1415988\n"
     ]
    }
   ],
   "source": [
    "N = 10000000\n",
    "#para que los resultados sean reproducibles\n",
    "np.random.seed(42)\n",
    "dardo = np.random.random([N, 2])\n",
    "\n",
    "dentro = np.zeros(N)\n",
    "for i in range(N):\n",
    "    if dardo[i, 0] ** 2 + dardo[i, 1] ** 2 < 1:\n",
    "        dentro[i] = 1\n",
    "\n",
    "todo = np.array([1] * N)\n",
    "\n",
    "pi = np.sum(dentro)/np.sum(todo)*4\n",
    "print('pi:', pi)"
   ]
  },
  {
   "cell_type": "code",
   "execution_count": 28,
   "metadata": {},
   "outputs": [
    {
     "data": {
      "text/plain": [
       "3.1415988"
      ]
     },
     "execution_count": 28,
     "metadata": {},
     "output_type": "execute_result"
    }
   ],
   "source": [
    "4*len(np.where(np.sqrt(dardo[:,0]**2 + dardo[:,1]**2) < 1)[0])/len(dardo)"
   ]
  },
  {
   "cell_type": "code",
   "execution_count": null,
   "metadata": {},
   "outputs": [],
   "source": [
    "# fijar la semilla, para reproducir los cálulos\n",
    "np.random.seed(42)\n",
    "\n",
    "# Datos sintéticos, con ruido gaussiano\n",
    "# La idea de esto es que podrían ser nuestras mediciones.\n",
    "true_slope = 2.5\n",
    "true_intercept = 1.\n",
    "x_data = np.linspace(0, 1, 1_000)\n",
    "sigma_guass_noise = .5\n",
    "\n",
    "y_data = true_slope * x_data + true_intercept + np.random.normal(0, sigma_guass_noise, len(x_data))\n",
    "\n",
    "# Log-likelihood\n",
    "def log_likelihood(theta, x, y, sigma):\n",
    "    a, b = theta\n",
    "    model = a * x + b\n",
    "    output = -.5 * np.sum(((y-model) / sigma) ** 2)\n",
    "    return output\n",
    "\n",
    "# Metropolis-Hasstings algorithm\n",
    "def metropolis_hastings(x, y, sigma, n_chain, initial_guess, proposal_sigma):\n",
    "    # Primero calculamos la likelihood actual\n",
    "    n_dim = len(initial_guess) # Cuantos parametos buscamos\n",
    "    chain = np.zeros((n_chain, n_dim)) # Aqui guardamos los parametros\n",
    "    chain[0] = initial_guess\n",
    "    current_likelihood = log_likelihood(chain[0], x, y, sigma)\n",
    "\n",
    "    # Ahora queremos comparar para ver si actualizamos el estado.\n",
    "    # Para ello, necesitamos calcular la nueva likelihood, generar un\n",
    "    # numero aleatorio y comparar.\n",
    "    for idx in range(1, n_chain):\n",
    "        # Nuevos parametros\n",
    "        proposal = chain[idx - 1] + np.random.normal(0, proposal_sigma, n_dim)\n",
    "        proposal_likelihood = log_likelihood(proposal, x, y, sigma)\n",
    "\n",
    "        # Probabilidad de aceptar \n",
    "        alpha = np.exp(proposal_likelihood - current_likelihood)\n",
    "\n",
    "        # Generamos numero aleatorio y comparamos.\n",
    "        if np.random.random() < alpha:\n",
    "            chain[idx] = proposal\n",
    "            current_likelihood = proposal_likelihood\n",
    "        else:\n",
    "            chain[idx] = chain[idx-1]\n",
    "    \n",
    "    return chain"
   ]
  },
  {
   "cell_type": "code",
   "execution_count": null,
   "metadata": {},
   "outputs": [],
   "source": [
    "initial_guess = [1.,1.]\n",
    "n_chain = 10_000\n",
    "proposal_sigma = .1\n",
    "\n",
    "chain = metropolis_hastings(x_data, y_data, sigma_guass_noise, n_chain, initial_guess, proposal_sigma)\n",
    "\n",
    "# Descartamos el \"burn-in\"\n",
    "# chain = chain[100:]x\n",
    "\n",
    "# definimos chi cuadrado\n",
    "def chi_square(x, y, a, b, sigma):\n",
    "    model_prediction = a * x + b\n",
    "    output = np.sum(((model_prediction - y)/sigma)**2)\n",
    "    return output\n",
    "\n",
    "chi_square_values = np.array([chi_square(x_data, y_data, a, b, sigma_guass_noise) for a, b in chain])"
   ]
  }
 ],
 "metadata": {
  "kernelspec": {
   "display_name": "base",
   "language": "python",
   "name": "python3"
  },
  "language_info": {
   "codemirror_mode": {
    "name": "ipython",
    "version": 3
   },
   "file_extension": ".py",
   "mimetype": "text/x-python",
   "name": "python",
   "nbconvert_exporter": "python",
   "pygments_lexer": "ipython3",
   "version": "3.8.8"
  }
 },
 "nbformat": 4,
 "nbformat_minor": 2
}
